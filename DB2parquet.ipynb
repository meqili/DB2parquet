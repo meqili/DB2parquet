{
 "cells": [
  {
   "cell_type": "code",
   "execution_count": 17,
   "id": "ae15a729-64df-426f-9919-d186117cee75",
   "metadata": {
    "tags": []
   },
   "outputs": [],
   "source": [
    "%%capture\n",
    "from pyspark.sql import SparkSession\n",
    "import glow\n",
    "spark = SparkSession \\\n",
    "    .builder \\\n",
    "    .appName(\"PythonPi\") \\\n",
    "    .config(\"spark.jars.packages\", \"io.projectglow:glow-spark3_2.12:1.1.2\") \\\n",
    "    .config(\"spark.hadoop.io.compression.codecs\", \"io.projectglow.sql.util.BGZFCodec\") \\\n",
    "    .getOrCreate()\n",
    "spark = glow.register(spark)\n",
    "import pandas as pd\n",
    "pd.set_option('max_columns', None)"
   ]
  },
  {
   "cell_type": "code",
   "execution_count": 18,
   "id": "773d487a-0bdf-41e7-97ec-fb26f335133f",
   "metadata": {},
   "outputs": [],
   "source": [
    "from pyspark.sql.functions import col, regexp_replace, split, regexp_extract, input_file_name\n",
    "from pyspark.sql.types import LongType, FloatType, DoubleType, StringType\n",
    "from pyspark.sql import DataFrame\n",
    "import numpy as np\n",
    "import re"
   ]
  },
  {
   "cell_type": "code",
   "execution_count": null,
   "id": "91f435ea-2cea-4c63-b492-f380962c7a30",
   "metadata": {},
   "outputs": [
    {
     "name": "stderr",
     "output_type": "stream",
     "text": [
      "[Stage 14:>                                                         (0 + 1) / 1]\r"
     ]
    }
   ],
   "source": [
    "chromosomes = np.arange(1, 23, 1).tolist() + [\"X\" , \"Y\"]\n",
    "\n",
    "for CHROM in chromosomes:\n",
    "    CHROM = str(CHROM)\n",
    "    spark.read.options(inferSchema=True,sep=\"\\t\",header=True,nullValue=\".\") \\\n",
    "        .csv(\"/sbgenomics/project-files/hg38_genome_anno_output/hg38_genome_chr\" + CHROM + \".hg38_multianno.txt.gz\") \\\n",
    "        .withColumn(\"start\",col(\"Start\").cast(LongType())) \\\n",
    "        .withColumn(\"end\",col(\"End\").cast(LongType())) \\\n",
    "        .withColumnRenamed(\"Chr\", \"chromosome\") \\\n",
    "        .withColumn('chromosome', regexp_replace('chromosome', 'chr', '')) \\\n",
    "        .withColumnRenamed(\"Ref\", \"reference\") \\\n",
    "        .withColumnRenamed(\"Alt\", \"alternate\") \\\n",
    "        .coalesce(1) \\\n",
    "        .write.mode(\"overwrite\") \\\n",
    "        .parquet(\"/sbgenomics/output-files/human_genome_hg38_Annovar_annotation/chromosome=\" + CHROM)"
   ]
  },
  {
   "cell_type": "code",
   "execution_count": 17,
   "id": "889ecca0-c8d9-4575-b7be-516f5863f90e",
   "metadata": {},
   "outputs": [
    {
     "name": "stderr",
     "output_type": "stream",
     "text": [
      "[Stage 88:======================================================> (37 + 1) / 38]\r"
     ]
    },
    {
     "name": "stdout",
     "output_type": "stream",
     "text": [
      "chr1: 691443044\n"
     ]
    },
    {
     "name": "stderr",
     "output_type": "stream",
     "text": [
      "                                                                                \r"
     ]
    },
    {
     "name": "stdout",
     "output_type": "stream",
     "text": [
      "chr2: 721644720\n"
     ]
    },
    {
     "name": "stderr",
     "output_type": "stream",
     "text": [
      "                                                                                \r"
     ]
    },
    {
     "name": "stdout",
     "output_type": "stream",
     "text": [
      "chr3: 594300433\n"
     ]
    },
    {
     "name": "stderr",
     "output_type": "stream",
     "text": [
      "                                                                                \r"
     ]
    },
    {
     "name": "stdout",
     "output_type": "stream",
     "text": [
      "chr4: 569258001\n"
     ]
    },
    {
     "name": "stderr",
     "output_type": "stream",
     "text": [
      "                                                                                \r"
     ]
    },
    {
     "name": "stdout",
     "output_type": "stream",
     "text": [
      "chr5: 536949579\n"
     ]
    },
    {
     "name": "stderr",
     "output_type": "stream",
     "text": [
      "[Stage 103:=====================================================> (28 + 1) / 29]\r"
     ]
    },
    {
     "name": "stdout",
     "output_type": "stream",
     "text": [
      "chr6: 510235570\n"
     ]
    },
    {
     "name": "stderr",
     "output_type": "stream",
     "text": [
      "                                                                                \r"
     ]
    },
    {
     "name": "stdout",
     "output_type": "stream",
     "text": [
      "chr7: 476910409\n"
     ]
    },
    {
     "name": "stderr",
     "output_type": "stream",
     "text": [
      "                                                                                \r"
     ]
    },
    {
     "name": "stdout",
     "output_type": "stream",
     "text": [
      "chr8: 434304408\n"
     ]
    },
    {
     "name": "stderr",
     "output_type": "stream",
     "text": [
      "                                                                                \r"
     ]
    },
    {
     "name": "stdout",
     "output_type": "stream",
     "text": [
      "chr9: 365371662\n"
     ]
    },
    {
     "name": "stderr",
     "output_type": "stream",
     "text": [
      "                                                                                \r"
     ]
    },
    {
     "name": "stdout",
     "output_type": "stream",
     "text": [
      "chr10: 399789030\n"
     ]
    },
    {
     "name": "stderr",
     "output_type": "stream",
     "text": [
      "                                                                                \r"
     ]
    },
    {
     "name": "stdout",
     "output_type": "stream",
     "text": [
      "chr11: 403601226\n"
     ]
    },
    {
     "name": "stderr",
     "output_type": "stream",
     "text": [
      "                                                                                \r"
     ]
    },
    {
     "name": "stdout",
     "output_type": "stream",
     "text": [
      "chr12: 399413460\n"
     ]
    },
    {
     "name": "stderr",
     "output_type": "stream",
     "text": [
      "                                                                                \r"
     ]
    },
    {
     "name": "stdout",
     "output_type": "stream",
     "text": [
      "chr13: 293949387\n"
     ]
    },
    {
     "name": "stderr",
     "output_type": "stream",
     "text": [
      "                                                                                \r"
     ]
    },
    {
     "name": "stdout",
     "output_type": "stream",
     "text": [
      "chr14: 265554303\n"
     ]
    },
    {
     "name": "stderr",
     "output_type": "stream",
     "text": [
      "                                                                                \r"
     ]
    },
    {
     "name": "stdout",
     "output_type": "stream",
     "text": [
      "chr15: 253923975\n"
     ]
    },
    {
     "name": "stderr",
     "output_type": "stream",
     "text": [
      "                                                                                \r"
     ]
    },
    {
     "name": "stdout",
     "output_type": "stream",
     "text": [
      "chr16: 245417833\n"
     ]
    },
    {
     "name": "stderr",
     "output_type": "stream",
     "text": [
      "                                                                                \r"
     ]
    },
    {
     "name": "stdout",
     "output_type": "stream",
     "text": [
      "chr17: 248760660\n"
     ]
    },
    {
     "name": "stderr",
     "output_type": "stream",
     "text": [
      "                                                                                \r"
     ]
    },
    {
     "name": "stdout",
     "output_type": "stream",
     "text": [
      "chr18: 240268815\n"
     ]
    },
    {
     "name": "stderr",
     "output_type": "stream",
     "text": [
      "                                                                                \r"
     ]
    },
    {
     "name": "stdout",
     "output_type": "stream",
     "text": [
      "chr19: 167299191\n"
     ]
    },
    {
     "name": "stderr",
     "output_type": "stream",
     "text": [
      "                                                                                \r"
     ]
    },
    {
     "name": "stdout",
     "output_type": "stream",
     "text": [
      "chr20: 191832771\n"
     ]
    },
    {
     "name": "stderr",
     "output_type": "stream",
     "text": [
      "                                                                                \r"
     ]
    },
    {
     "name": "stdout",
     "output_type": "stream",
     "text": [
      "chr21: 114115725\n"
     ]
    },
    {
     "name": "stderr",
     "output_type": "stream",
     "text": [
      "                                                                                \r"
     ]
    },
    {
     "name": "stdout",
     "output_type": "stream",
     "text": [
      "chr22: 111215960\n"
     ]
    },
    {
     "name": "stderr",
     "output_type": "stream",
     "text": [
      "                                                                                \r"
     ]
    },
    {
     "name": "stdout",
     "output_type": "stream",
     "text": [
      "chrX: 464679107\n"
     ]
    },
    {
     "name": "stderr",
     "output_type": "stream",
     "text": [
      "[Stage 157:=============================================>           (4 + 1) / 5]\r"
     ]
    },
    {
     "name": "stdout",
     "output_type": "stream",
     "text": [
      "chrY: 70909065\n"
     ]
    },
    {
     "name": "stderr",
     "output_type": "stream",
     "text": [
      "                                                                                \r"
     ]
    }
   ],
   "source": [
    "for CHROM in chromosomes:\n",
    "    CHROM = str(CHROM)\n",
    "    table_temp_count = spark.read.parquet(\"/sbgenomics/output-files/human_genome_hg38_Annovar_annotation/chromosome=\" + CHROM).count()\n",
    "    print(\"chr\" + CHROM + \": \" + str(table_temp_count))"
   ]
  },
  {
   "cell_type": "code",
   "execution_count": 19,
   "id": "d71f1356-d65a-45be-b0e7-45987f09c21c",
   "metadata": {},
   "outputs": [],
   "source": [
    "genome_hg38_Annovar = spark.read.parquet(\"/sbgenomics/output-files/human_genome_hg38_Annovar_annotation/chromosome=*\")"
   ]
  },
  {
   "cell_type": "code",
   "execution_count": 21,
   "id": "ebcfb31e-5b7b-496c-a750-a3d501874e8a",
   "metadata": {},
   "outputs": [
    {
     "name": "stderr",
     "output_type": "stream",
     "text": [
      "[Stage 161:====================================================>(488 + 3) / 491]\r"
     ]
    },
    {
     "name": "stdout",
     "output_type": "stream",
     "text": [
      "+----------+-----+-----+---------+---------+------------+------------+-------------------+------------------+----------------+\n",
      "|chromosome|start|  end|reference|alternate|Func.refGene|Gene.refGene| GeneDetail.refGene|ExonicFunc.refGene|AAChange.refGene|\n",
      "+----------+-----+-----+---------+---------+------------+------------+-------------------+------------------+----------------+\n",
      "|         1|10001|10001|        T|        A|  intergenic|NONE;DDX11L1|dist=NONE;dist=1873|              null|            null|\n",
      "|         1|10001|10001|        T|        C|  intergenic|NONE;DDX11L1|dist=NONE;dist=1873|              null|            null|\n",
      "|         1|10001|10001|        T|        G|  intergenic|NONE;DDX11L1|dist=NONE;dist=1873|              null|            null|\n",
      "|         1|10002|10002|        A|        C|  intergenic|NONE;DDX11L1|dist=NONE;dist=1872|              null|            null|\n",
      "|         1|10002|10002|        A|        G|  intergenic|NONE;DDX11L1|dist=NONE;dist=1872|              null|            null|\n",
      "+----------+-----+-----+---------+---------+------------+------------+-------------------+------------------+----------------+\n",
      "\n"
     ]
    },
    {
     "name": "stderr",
     "output_type": "stream",
     "text": [
      "                                                                                \r"
     ]
    }
   ],
   "source": [
    "genome_hg38_Annovar.limit(5).show()"
   ]
  },
  {
   "cell_type": "code",
   "execution_count": null,
   "id": "3d79cd71-6289-4cb0-8b6e-5218e71f9eea",
   "metadata": {},
   "outputs": [
    {
     "name": "stderr",
     "output_type": "stream",
     "text": [
      "[Stage 11:>                                                         (0 + 1) / 1]\r"
     ]
    }
   ],
   "source": [
    "chromosomes = np.arange(20, 23, 1).tolist() + [\"X\" , \"Y\"]\n",
    "\n",
    "for CHROM in chromosomes:\n",
    "    CHROM = str(CHROM)\n",
    "    spark.read.options(inferSchema=True,sep=\"\\t\",header=False,nullValue=\".\") \\\n",
    "        .csv(\"/sbgenomics/project-files/hg38_CADD16.chr\" + CHROM + \".txt\") \\\n",
    "        .toDF(\"chromosome\", \"start\", \"end\", \"reference\", \"alternate\", \"CADD_splice\") \\\n",
    "        .coalesce(1) \\\n",
    "        .write.mode(\"overwrite\") \\\n",
    "        .parquet(\"/sbgenomics/output-files/hg38_CADD16/chromosome=\" + CHROM)"
   ]
  },
  {
   "cell_type": "code",
   "execution_count": null,
   "id": "0510703a-dfa4-4089-b3cb-ab5f53702a08",
   "metadata": {},
   "outputs": [
    {
     "name": "stderr",
     "output_type": "stream",
     "text": [
      "[Stage 8:>                                                          (0 + 1) / 1]\r"
     ]
    }
   ],
   "source": [
    "chromosomes = np.arange(1, 23, 1).tolist() + [\"X\" , \"Y\"]\n",
    "for CHROM in chromosomes:\n",
    "    CHROM = str(CHROM)\n",
    "    dbNSFP_variant = spark.read.options(inferSchema=True,sep=\"\\t\",header=True,nullValue=\".\") \\\n",
    "            .csv(\"/sbgenomics/project-files/dbNSFP4.3a_variant.chr\" + CHROM + \".gz\")\n",
    "\n",
    "    cols=[re.sub(r'(^_|_$)','',f.replace(\"(\", \"[\").replace(\" \", \"_\").replace(\")\", \"]\")) for f in dbNSFP_variant.columns]\n",
    "    dbNSFP_variant.toDF(*cols) \\\n",
    "            .withColumnRenamed(\"#chr\", \"chromosome\") \\\n",
    "            .withColumn(\"pos[1-based]\", col(\"pos[1-based]\").cast(LongType())) \\\n",
    "            .withColumnRenamed(\"pos[1-based]\", \"start\") \\\n",
    "            .withColumnRenamed(\"ref\", \"reference\") \\\n",
    "            .withColumnRenamed(\"alt\", \"alternate\") \\\n",
    "            .coalesce(1) \\\n",
    "            .write.mode(\"overwrite\") \\\n",
    "            .parquet(\"/sbgenomics/output-files/dbNSFP_variant/chromosome=\" + CHROM)"
   ]
  },
  {
   "cell_type": "code",
   "execution_count": 7,
   "id": "8bb7cf7e-62dd-4ec8-b4e0-bac35a9a1276",
   "metadata": {},
   "outputs": [
    {
     "name": "stderr",
     "output_type": "stream",
     "text": [
      "                                                                                \r"
     ]
    }
   ],
   "source": [
    "spark.read.options(inferSchema=True,sep=\",\",header=True,nullValue=\".\") \\\n",
    "    .csv(\"/sbgenomics/project-files/phenotype_to_genes.csv.gz\") \\\n",
    "    .coalesce(1) \\\n",
    "    .write.mode(\"overwrite\") \\\n",
    "    .parquet(\"/sbgenomics/output-files/hpo_phenotype_to_genes\")"
   ]
  },
  {
   "cell_type": "code",
   "execution_count": 8,
   "id": "1ec647f9-74db-4ab6-a9a8-02cf82c92bcf",
   "metadata": {},
   "outputs": [],
   "source": [
    "spark.read.options(inferSchema=True,sep=\",\",header=True,nullValue=\".\") \\\n",
    "    .csv(\"/sbgenomics/project-files/genes_to_phenotype.csv.gz\") \\\n",
    "    .coalesce(1) \\\n",
    "    .write.mode(\"overwrite\") \\\n",
    "    .parquet(\"/sbgenomics/output-files/hpo_genes_to_phenotype\")"
   ]
  },
  {
   "cell_type": "code",
   "execution_count": 29,
   "id": "bb268c56-7463-43b7-aefe-ad8d0d7d9174",
   "metadata": {},
   "outputs": [
    {
     "name": "stderr",
     "output_type": "stream",
     "text": [
      "                                                                                \r"
     ]
    }
   ],
   "source": [
    "# Define the path to the directory containing the files\n",
    "dir_path = \"PanelApp\"\n",
    "\n",
    "# Read all TSV files in the directory into a DataFrame\n",
    "Panel_df = spark.read.format(\"csv\").option(\"header\", \"true\").option(\"delimiter\", \"\\t\") \\\n",
    "                 .option(\"inferSchema\", \"true\").option(\"quote\", \"\") \\\n",
    "                 .option(\"ignoreLeadingWhiteSpace\", \"true\").option(\"ignoreTrailingWhiteSpace\", \"true\") \\\n",
    "                 .load(dir_path + \"/*.tsv\") \\\n",
    "                 .withColumn(\"file_name\", input_file_name()) \\\n",
    "                 .withColumnRenamed(\"Sources(; separated)\", \"Sources_semicolon_separated\")\n",
    "\n",
    "# Get a list of current column names\n",
    "current_cols = Panel_df.columns\n",
    "\n",
    "# Define a function to replace symbols with underscores\n",
    "def clean_col_name(col_name):\n",
    "    return re.sub('[ ,;{}()\\n\\t=]+', '_', col_name)\n",
    "\n",
    "# Use list comprehension to create a list of new column names with symbols replaced by underscores\n",
    "new_cols = [clean_col_name(col_name) for col_name in current_cols]\n",
    "\n",
    "# Rename the columns using withColumnRenamed()\n",
    "for i in range(len(current_cols)):\n",
    "    Panel_df = Panel_df.withColumnRenamed(current_cols[i], new_cols[i])\n",
    "\n",
    "Panel_df.coalesce(1) \\\n",
    "     .write.mode(\"overwrite\") \\\n",
    "     .parquet(\"/sbgenomics/output-files/PanelApp\")"
   ]
  },
  {
   "cell_type": "code",
   "execution_count": 3,
   "id": "29bdfe67-57f7-40d7-bb54-4f2d52aa62a9",
   "metadata": {},
   "outputs": [
    {
     "name": "stderr",
     "output_type": "stream",
     "text": [
      "                                                                                \r"
     ]
    }
   ],
   "source": [
    "spark.read.options(inferSchema=True,sep=\"\\t\",header=True,nullValue=\".\") \\\n",
    "    .csv(\"hg38_HGMD2023Q3_gene_lite.VWB.txt\") \\\n",
    "    .withColumnRenamed(\"Chr\", \"chromosome\") \\\n",
    "    .withColumn('chromosome', regexp_replace('chromosome', 'chr', '')) \\\n",
    "    .withColumn(\"start\", col(\"Start\").cast(LongType())) \\\n",
    "    .withColumn(\"end\", col(\"End\").cast(LongType())) \\\n",
    "    .withColumn(\"split_c0\", split(col(\"#EntrezGeneID_GeneSymbol\"), \"_\")) \\\n",
    "    .withColumn(\"entrez_gene_id\",col(\"split_c0\").getItem(0)) \\\n",
    "    .withColumn(\"symbol\",col(\"split_c0\").getItem(1)) \\\n",
    "    .withColumn(\"variant_class\",split(col(\"Phenotypes\"), \",\")) \\\n",
    "    .drop(\"Chr\", \"Phenotypes\", \"split_c0\", \"#EntrezGeneID_GeneSymbol\") \\\n",
    "    .write.mode(\"overwrite\") \\\n",
    "    .parquet(\"/sbgenomics/output-files/hg38_HGMD2023Q3_gene_lite\")"
   ]
  },
  {
   "cell_type": "code",
   "execution_count": 4,
   "id": "4a9243c4-ee76-4ccd-8e25-2599d6b734da",
   "metadata": {},
   "outputs": [
    {
     "name": "stderr",
     "output_type": "stream",
     "text": [
      "                                                                                \r"
     ]
    }
   ],
   "source": [
    "spark.read.options(inferSchema=True,sep=\"\\t\",header=True, nullValue=\".\") \\\n",
    "    .csv(\"hg38_HGMD2023Q3_gene_sorted.VWB.txt\") \\\n",
    "    .withColumnRenamed(\"Chr\", \"chromosome\") \\\n",
    "    .withColumn(\"chromosome\", regexp_replace(\"chromosome\", \"chr\", \"\")) \\\n",
    "    .withColumn(\"start\", col(\"Start\").cast(LongType())) \\\n",
    "    .withColumn(\"end\", col(\"End\").cast(LongType())) \\\n",
    "    .withColumn(\"split_c0\", split(col(\"#EntrezGeneID_GeneSymbol\"), \"_\")) \\\n",
    "    .withColumn(\"entrez_gene_id\",col(\"split_c0\").getItem(0)) \\\n",
    "    .withColumn(\"symbol\",col(\"split_c0\").getItem(1)) \\\n",
    "    .withColumn(\"split_c4\",split(col(\"Phenotypes\"), \"~\")) \\\n",
    "    .withColumn(\"DM\", split(regexp_extract(col(\"split_c4\").getItem(0), \"^DM\\\\[([^\\\\]]*)?\\\\]?\", 1), \",\")) \\\n",
    "    .withColumn(\"DM?\", split(regexp_extract(col(\"split_c4\").getItem(1), \"^DM\\\\?\\\\[([^\\\\]]*)?\\\\]?\", 1), \",\")) \\\n",
    "    .withColumn(\"DP\", split(regexp_extract(col(\"split_c4\").getItem(2), \"^DP\\\\[([^\\\\]]*)?\\\\]?\", 1), \",\")) \\\n",
    "    .withColumn(\"DFP\", split(regexp_extract(col(\"split_c4\").getItem(3), \"^DFP\\\\[([^\\\\]]*)?\\\\]?\", 1), \",\")) \\\n",
    "    .withColumn(\"FP\", split(regexp_extract(col(\"split_c4\").getItem(4), \"^FP\\\\[([^\\\\]]*)?\\\\]?\", 1), \",\")) \\\n",
    "    .withColumn(\"R\", split(regexp_extract(col(\"split_c4\").getItem(5), \"^R\\\\[([^\\\\]]*)?\\\\]?\", 1), \",\")) \\\n",
    "    .drop(\"Chr\", \"Phenotypes\", \"split_c0\", \"#EntrezGeneID_GeneSymbol\", \"split_c4\") \\\n",
    "    .write.mode(\"overwrite\") \\\n",
    "    .parquet(\"/sbgenomics/output-files/hg38_HGMD2023Q3_gene_sorted\")"
   ]
  },
  {
   "cell_type": "code",
   "execution_count": 11,
   "id": "82b64d6e-a378-4bd7-aa12-bc6cd74252ac",
   "metadata": {
    "tags": []
   },
   "outputs": [
    {
     "name": "stderr",
     "output_type": "stream",
     "text": [
      "                                                                                \r"
     ]
    }
   ],
   "source": [
    "df = spark.read.options(inferSchema=True,sep=\"\\t\",header=True, nullValue=\".\") \\\n",
    "        .csv(\"hg38_HGMD2023Q3_variant.VWB.txt\") \\\n",
    "        .withColumnRenamed(\"#Chr\", \"chromosome\") \\\n",
    "        .withColumn(\"chromosome\", regexp_replace(\"chromosome\", \"chr\", \"\")) \\\n",
    "        .withColumn(\"start\", col(\"Start\").cast(LongType())) \\\n",
    "        .withColumn(\"end\", col(\"End\").cast(LongType())) \\\n",
    "        .withColumnRenamed(\"Ref\", \"reference\") \\\n",
    "        .withColumnRenamed(\"Alt\", \"alternate\")\n",
    "\n",
    "for c in df.columns :\n",
    "    if \"HGMD2023Q3_\" in c:\n",
    "        if \"END\" in c:\n",
    "            new_c = \"variant_end\"\n",
    "        elif \"GENE\" in c:\n",
    "            new_c = \"symbol\"\n",
    "        elif \"CLASS\" in c:\n",
    "            new_c = \"variant_class\"\n",
    "        else:\n",
    "            new_c = c.replace(\"HGMD2023Q3_\", \"\").lower()\n",
    "        df = df.withColumnRenamed(c, new_c)\n",
    "\n",
    "df.withColumn(\"rankscore\", col(\"rankscore\").cast(FloatType())) \\\n",
    "    .withColumn(\"variant_end\", col(\"variant_end\").cast(LongType())) \\\n",
    "    .withColumn(\"svlen\", col(\"svlen\").cast(LongType())) \\\n",
    "    .write.mode(\"overwrite\") \\\n",
    "    .parquet(\"/sbgenomics/output-files/hg38_HGMD2023Q3_variant\")"
   ]
  },
  {
   "cell_type": "code",
   "execution_count": 15,
   "id": "59903450-f627-4ae2-b12f-bef50b9fc870",
   "metadata": {},
   "outputs": [
    {
     "name": "stdout",
     "output_type": "stream",
     "text": [
      "+----------+--------+--------+---------+---------+---------+-------------+---+------+------+--------------------+--------------------+-----------+--------------------+---------+------+-----------+-----+\n",
      "|chromosome|   start|     end|reference|alternate|       id|variant_class|mut|symbol|strand|                 dna|                prot|         db|                phen|rankscore|svtype|variant_end|svlen|\n",
      "+----------+--------+--------+---------+---------+---------+-------------+---+------+------+--------------------+--------------------+-----------+--------------------+---------+------+-----------+-----+\n",
      "|         5|79126068|79126068|        C|        T|CM2234576|          DM?|ALT|  BHMT|     +|NM_001713.3%3Ac.6...|NP_001704.2%3Ap.N...|       null|Autism_spectrum_dis.|     null|  null|       null| null|\n",
      "|         5|79126136|79126136|        G|        A| CM031139|           DP|ALT|  BHMT|     +|NM_001713.3%3Ac.7...|NP_001704.2%3Ap.R...|  rs3733890|Reduced_risk_of_c...|      0.1|  null|       null| null|\n",
      "|         5|79131090|79131091|       GA|        G| CD199419|          DM?|ALT|  BHMT|     +|NM_001713.3%3Ac.1...|NP_001704.2%3Ap.(...|rs763726268|Cleft_lip_with_or...|     null|  null|       null| null|\n",
      "|         5|79237104|79237104|        C|        T|CM2134897|          DM?|ALT|   JMY|     +|NM_152405.5%3Ac.4...|NP_689618.4%3Ap.Q...|       null|              Autism|     0.58|  null|       null| null|\n",
      "|         5|79291147|79291147|        C|        T|CM2134900|          DM?|ALT|   JMY|     +|NM_152405.5%3Ac.1...|NP_689618.4%3Ap.R...|       null|              Autism|     0.99|  null|       null| null|\n",
      "+----------+--------+--------+---------+---------+---------+-------------+---+------+------+--------------------+--------------------+-----------+--------------------+---------+------+-----------+-----+\n",
      "only showing top 5 rows\n",
      "\n"
     ]
    }
   ],
   "source": [
    "hgmd=spark.read.parquet(\"/sbgenomics/output-files/hg38_HGMD2023Q3_variant\")\n",
    "hgmd.show(5)"
   ]
  },
  {
   "cell_type": "code",
   "execution_count": 20,
   "id": "6acf40e1-8fa5-49d8-bd50-72cf8de9767c",
   "metadata": {
    "tags": []
   },
   "outputs": [],
   "source": [
    "spark.read.options(inferSchema=True,sep=\"\\t\",header=True,nullValue=\"NA\") \\\n",
    "    .csv(\"/sbgenomics/project-files/gencc-submissions_20231003.txt\") \\\n",
    "    .coalesce(1) \\\n",
    "    .write.mode(\"overwrite\") \\\n",
    "    .parquet(\"/sbgenomics/output-files/gencc20231003\") "
   ]
  },
  {
   "cell_type": "code",
   "execution_count": 19,
   "id": "ce2172cf-df38-48d1-9a85-de46ed57d28e",
   "metadata": {},
   "outputs": [],
   "source": [
    "spark.read.options(inferSchema=True,sep=\"\\t\",header=True,nullValue=\"NA\") \\\n",
    "    .csv(\"GenicIntolerance_v3_12Mar16.txt\") \\\n",
    "    .coalesce(1) \\\n",
    "    .write.mode(\"overwrite\") \\\n",
    "    .parquet(\"/sbgenomics/output-files/RVIS\")"
   ]
  },
  {
   "cell_type": "code",
   "execution_count": 4,
   "id": "c73ea4c7-78b5-42a3-9a2f-ebffca115bb0",
   "metadata": {
    "tags": []
   },
   "outputs": [
    {
     "name": "stderr",
     "output_type": "stream",
     "text": [
      "23/11/14 20:57:41 WARN package: Truncated the string representation of a plan since it was too large. This behavior can be adjusted by setting 'spark.sql.debug.maxToStringFields'.\n",
      "                                                                                \r"
     ]
    }
   ],
   "source": [
    "# Define the path to the directory containing the files\n",
    "dir_path = \"dbNSFP4.5a/\"\n",
    "\n",
    "# Read all TSV files in the directory into a DataFrame\n",
    "dbNSFP_gene = spark.read.options(inferSchema=True,sep=\"\\t\",header=True, nullValue=\".\") \\\n",
    "    .csv(\"dbNSFP4.5a/dbNSFP4.5_gene.gz\") \\\n",
    "    .withColumnRenamed(\"chr\", \"chromosome\")\n",
    "\n",
    "new_columns = [col.replace('(', '[').replace(')', ']').replace(' ', '_') for col in dbNSFP_gene.columns]\n",
    "dbNSFP_gene = dbNSFP_gene.toDF(*new_columns)\n",
    "\n",
    "    \n",
    "dbNSFP_gene.coalesce(1) \\\n",
    "        .write.mode(\"overwrite\") \\\n",
    "        .parquet(\"/sbgenomics/output-files/dbNSFP4.5_gene\")"
   ]
  },
  {
   "cell_type": "code",
   "execution_count": null,
   "id": "9e5754d9-7f8d-40ed-94f8-e6cbc770898f",
   "metadata": {},
   "outputs": [
    {
     "name": "stderr",
     "output_type": "stream",
     "text": [
      "[Stage 27:>                                                         (0 + 1) / 1]\r"
     ]
    }
   ],
   "source": [
    "chromosomes = np.arange(1, 23, 1).tolist() + [\"X\" , \"Y\"]\n",
    "for CHROM in chromosomes:\n",
    "    CHROM = str(CHROM)\n",
    "    dbNSFP_variant = spark.read.options(inferSchema=True,sep=\"\\t\",header=True,nullValue=\".\") \\\n",
    "            .csv(\"dbNSFP4.5a/dbNSFP4.5a_variant.chr\" + CHROM + \".gz\")\n",
    "\n",
    "    cols=[re.sub(r'(^_|_$)','',f.replace(\"(\", \"[\").replace(\" \", \"_\").replace(\")\", \"]\")) for f in dbNSFP_variant.columns]\n",
    "    dbNSFP_variant.toDF(*cols) \\\n",
    "            .withColumnRenamed(\"#chr\", \"chromosome\") \\\n",
    "            .withColumn(\"chromosome\", col(\"chromosome\").cast(StringType())) \\\n",
    "            .withColumn(\"fathmm-XF_coding_score\", col(\"fathmm-XF_coding_score\").cast(DoubleType())) \\\n",
    "            .withColumn(\"pos[1-based]\", col(\"pos[1-based]\").cast(LongType())) \\\n",
    "            .withColumnRenamed(\"pos[1-based]\", \"start\") \\\n",
    "            .withColumnRenamed(\"ref\", \"reference\") \\\n",
    "            .withColumnRenamed(\"alt\", \"alternate\") \\\n",
    "            .coalesce(1) \\\n",
    "            .write.mode(\"overwrite\") \\\n",
    "            .parquet(\"/sbgenomics/output-files/dbNSFP4.5_variant/chromosome=\" + CHROM)"
   ]
  },
  {
   "cell_type": "code",
   "execution_count": 32,
   "id": "ee1e726a-350d-4132-bd31-58a8b4f68dc6",
   "metadata": {
    "tags": []
   },
   "outputs": [
    {
     "name": "stdout",
     "output_type": "stream",
     "text": [
      "CPU times: user 2.76 ms, sys: 530 µs, total: 3.29 ms\n",
      "Wall time: 252 ms\n"
     ]
    },
    {
     "name": "stderr",
     "output_type": "stream",
     "text": [
      "23/11/28 02:48:33 WARN DataSource: Found duplicate column(s) in the data schema and the partition schema: `chromosome`\n"
     ]
    }
   ],
   "source": [
    "%%time\n",
    "dbnsfp_v4_5 = spark.read.parquet('/sbgenomics/output-files/dbNSFP4.5_variant/')"
   ]
  },
  {
   "cell_type": "code",
   "execution_count": 34,
   "id": "c21c1eef-5ca0-4d38-bd7b-022a6c1f6d80",
   "metadata": {},
   "outputs": [
    {
     "name": "stderr",
     "output_type": "stream",
     "text": [
      "                                                                                \r"
     ]
    },
    {
     "name": "stdout",
     "output_type": "stream",
     "text": [
      "+----------+\n",
      "|chromosome|\n",
      "+----------+\n",
      "|         7|\n",
      "|        15|\n",
      "|        11|\n",
      "|         3|\n",
      "|         8|\n",
      "|        22|\n",
      "|        16|\n",
      "|         5|\n",
      "|        18|\n",
      "|         Y|\n",
      "|        17|\n",
      "|         6|\n",
      "|        19|\n",
      "|         X|\n",
      "|         9|\n",
      "|         1|\n",
      "|        20|\n",
      "|        10|\n",
      "|         4|\n",
      "|        12|\n",
      "+----------+\n",
      "only showing top 20 rows\n",
      "\n"
     ]
    }
   ],
   "source": [
    "# Check the distinct values of the 'chromosome' column in the DataFrame\n",
    "dbnsfp_v4_5.select('chromosome').distinct().show()"
   ]
  },
  {
   "cell_type": "code",
   "execution_count": 36,
   "id": "e00d2283-4f65-4aa1-86b5-594d5dd60535",
   "metadata": {},
   "outputs": [
    {
     "ename": "AnalysisException",
     "evalue": "Table not found for 'SHOW PARTITIONS': dbnsfp_v4_5; line 1 pos 0;\n'ShowPartitions\n+- 'UnresolvedTable [dbnsfp_v4_5], SHOW PARTITIONS\n",
     "output_type": "error",
     "traceback": [
      "\u001b[0;31m---------------------------------------------------------------------------\u001b[0m",
      "\u001b[0;31mAnalysisException\u001b[0m                         Traceback (most recent call last)",
      "\u001b[0;32m/tmp/ipykernel_127/845015621.py\u001b[0m in \u001b[0;36m<module>\u001b[0;34m\u001b[0m\n\u001b[1;32m      1\u001b[0m \u001b[0;31m# Check the distinct values of the 'chromosome' column in the partitioning information\u001b[0m\u001b[0;34m\u001b[0m\u001b[0;34m\u001b[0m\u001b[0m\n\u001b[0;32m----> 2\u001b[0;31m \u001b[0mdistinct_partition_values\u001b[0m \u001b[0;34m=\u001b[0m \u001b[0mspark\u001b[0m\u001b[0;34m.\u001b[0m\u001b[0msql\u001b[0m\u001b[0;34m(\u001b[0m\u001b[0;34m\"SHOW PARTITIONS dbnsfp_v4_5\"\u001b[0m\u001b[0;34m)\u001b[0m\u001b[0;34m.\u001b[0m\u001b[0mselect\u001b[0m\u001b[0;34m(\u001b[0m\u001b[0;34m\"chromosome\"\u001b[0m\u001b[0;34m)\u001b[0m\u001b[0;34m.\u001b[0m\u001b[0mdistinct\u001b[0m\u001b[0;34m(\u001b[0m\u001b[0;34m)\u001b[0m\u001b[0;34m\u001b[0m\u001b[0;34m\u001b[0m\u001b[0m\n\u001b[0m\u001b[1;32m      3\u001b[0m \u001b[0mdistinct_partition_values\u001b[0m\u001b[0;34m.\u001b[0m\u001b[0mshow\u001b[0m\u001b[0;34m(\u001b[0m\u001b[0;34m)\u001b[0m\u001b[0;34m\u001b[0m\u001b[0;34m\u001b[0m\u001b[0m\n",
      "\u001b[0;32m/usr/local/spark/python/pyspark/sql/session.py\u001b[0m in \u001b[0;36msql\u001b[0;34m(self, sqlQuery)\u001b[0m\n\u001b[1;32m    721\u001b[0m         \u001b[0;34m[\u001b[0m\u001b[0mRow\u001b[0m\u001b[0;34m(\u001b[0m\u001b[0mf1\u001b[0m\u001b[0;34m=\u001b[0m\u001b[0;36m1\u001b[0m\u001b[0;34m,\u001b[0m \u001b[0mf2\u001b[0m\u001b[0;34m=\u001b[0m\u001b[0;34m'row1'\u001b[0m\u001b[0;34m)\u001b[0m\u001b[0;34m,\u001b[0m \u001b[0mRow\u001b[0m\u001b[0;34m(\u001b[0m\u001b[0mf1\u001b[0m\u001b[0;34m=\u001b[0m\u001b[0;36m2\u001b[0m\u001b[0;34m,\u001b[0m \u001b[0mf2\u001b[0m\u001b[0;34m=\u001b[0m\u001b[0;34m'row2'\u001b[0m\u001b[0;34m)\u001b[0m\u001b[0;34m,\u001b[0m \u001b[0mRow\u001b[0m\u001b[0;34m(\u001b[0m\u001b[0mf1\u001b[0m\u001b[0;34m=\u001b[0m\u001b[0;36m3\u001b[0m\u001b[0;34m,\u001b[0m \u001b[0mf2\u001b[0m\u001b[0;34m=\u001b[0m\u001b[0;34m'row3'\u001b[0m\u001b[0;34m)\u001b[0m\u001b[0;34m]\u001b[0m\u001b[0;34m\u001b[0m\u001b[0;34m\u001b[0m\u001b[0m\n\u001b[1;32m    722\u001b[0m         \"\"\"\n\u001b[0;32m--> 723\u001b[0;31m         \u001b[0;32mreturn\u001b[0m \u001b[0mDataFrame\u001b[0m\u001b[0;34m(\u001b[0m\u001b[0mself\u001b[0m\u001b[0;34m.\u001b[0m\u001b[0m_jsparkSession\u001b[0m\u001b[0;34m.\u001b[0m\u001b[0msql\u001b[0m\u001b[0;34m(\u001b[0m\u001b[0msqlQuery\u001b[0m\u001b[0;34m)\u001b[0m\u001b[0;34m,\u001b[0m \u001b[0mself\u001b[0m\u001b[0;34m.\u001b[0m\u001b[0m_wrapped\u001b[0m\u001b[0;34m)\u001b[0m\u001b[0;34m\u001b[0m\u001b[0;34m\u001b[0m\u001b[0m\n\u001b[0m\u001b[1;32m    724\u001b[0m \u001b[0;34m\u001b[0m\u001b[0m\n\u001b[1;32m    725\u001b[0m     \u001b[0;32mdef\u001b[0m \u001b[0mtable\u001b[0m\u001b[0;34m(\u001b[0m\u001b[0mself\u001b[0m\u001b[0;34m,\u001b[0m \u001b[0mtableName\u001b[0m\u001b[0;34m)\u001b[0m\u001b[0;34m:\u001b[0m\u001b[0;34m\u001b[0m\u001b[0;34m\u001b[0m\u001b[0m\n",
      "\u001b[0;32m/usr/local/spark/python/lib/py4j-0.10.9-src.zip/py4j/java_gateway.py\u001b[0m in \u001b[0;36m__call__\u001b[0;34m(self, *args)\u001b[0m\n\u001b[1;32m   1302\u001b[0m \u001b[0;34m\u001b[0m\u001b[0m\n\u001b[1;32m   1303\u001b[0m         \u001b[0manswer\u001b[0m \u001b[0;34m=\u001b[0m \u001b[0mself\u001b[0m\u001b[0;34m.\u001b[0m\u001b[0mgateway_client\u001b[0m\u001b[0;34m.\u001b[0m\u001b[0msend_command\u001b[0m\u001b[0;34m(\u001b[0m\u001b[0mcommand\u001b[0m\u001b[0;34m)\u001b[0m\u001b[0;34m\u001b[0m\u001b[0;34m\u001b[0m\u001b[0m\n\u001b[0;32m-> 1304\u001b[0;31m         return_value = get_return_value(\n\u001b[0m\u001b[1;32m   1305\u001b[0m             answer, self.gateway_client, self.target_id, self.name)\n\u001b[1;32m   1306\u001b[0m \u001b[0;34m\u001b[0m\u001b[0m\n",
      "\u001b[0;32m/usr/local/spark/python/pyspark/sql/utils.py\u001b[0m in \u001b[0;36mdeco\u001b[0;34m(*a, **kw)\u001b[0m\n\u001b[1;32m    115\u001b[0m                 \u001b[0;31m# Hide where the exception came from that shows a non-Pythonic\u001b[0m\u001b[0;34m\u001b[0m\u001b[0;34m\u001b[0m\u001b[0m\n\u001b[1;32m    116\u001b[0m                 \u001b[0;31m# JVM exception message.\u001b[0m\u001b[0;34m\u001b[0m\u001b[0;34m\u001b[0m\u001b[0m\n\u001b[0;32m--> 117\u001b[0;31m                 \u001b[0;32mraise\u001b[0m \u001b[0mconverted\u001b[0m \u001b[0;32mfrom\u001b[0m \u001b[0;32mNone\u001b[0m\u001b[0;34m\u001b[0m\u001b[0;34m\u001b[0m\u001b[0m\n\u001b[0m\u001b[1;32m    118\u001b[0m             \u001b[0;32melse\u001b[0m\u001b[0;34m:\u001b[0m\u001b[0;34m\u001b[0m\u001b[0;34m\u001b[0m\u001b[0m\n\u001b[1;32m    119\u001b[0m                 \u001b[0;32mraise\u001b[0m\u001b[0;34m\u001b[0m\u001b[0;34m\u001b[0m\u001b[0m\n",
      "\u001b[0;31mAnalysisException\u001b[0m: Table not found for 'SHOW PARTITIONS': dbnsfp_v4_5; line 1 pos 0;\n'ShowPartitions\n+- 'UnresolvedTable [dbnsfp_v4_5], SHOW PARTITIONS\n"
     ]
    }
   ],
   "source": [
    "# Check the distinct values of the 'chromosome' column in the partitioning information\n",
    "distinct_partition_values = spark.sql(\"SHOW PARTITIONS dbnsfp_v4_5\").select(\"chromosome\").distinct()\n",
    "distinct_partition_values.show()"
   ]
  },
  {
   "cell_type": "code",
   "execution_count": 29,
   "id": "acb16c71-6554-41cb-b6a5-ffc20269f45e",
   "metadata": {},
   "outputs": [
    {
     "name": "stderr",
     "output_type": "stream",
     "text": [
      "                                                                                \r"
     ]
    }
   ],
   "source": [
    "spark.read \\\n",
    "    .option(\"header\", False) \\\n",
    "    .option(\"sep\", \"\\t\") \\\n",
    "    .option(\"comment\", \"#\") \\\n",
    "    .csv(\"/sbgenomics/workspace/dm_alphamissense/AlphaMissense_hg38.tsv.gz\") \\\n",
    "    .toDF(\"chromosome\", \"start\", \"reference\", \"alternate\", \"genome\", \\\n",
    "          \"uniprot_id\", \"transcript_id\", \"protein_variant\", \"am_pathogenicity\", \\\n",
    "          \"am_class\") \\\n",
    "    .withColumn(\"chromosome\", regexp_replace(\"chromosome\", \"chr\", \"\")) \\\n",
    "    .withColumn(\"start\", col(\"Start\").cast(LongType())) \\\n",
    "    .withColumn(\"am_pathogenicity\", col(\"am_pathogenicity\").cast(DoubleType())) \\\n",
    "    .coalesce(1) \\\n",
    "    .write.mode(\"overwrite\") \\\n",
    "    .parquet(\"/sbgenomics/output-files/dm_alphamissense/AlphaMissense_hg38\")"
   ]
  },
  {
   "cell_type": "code",
   "execution_count": 32,
   "id": "6f2319bc-399d-4ae9-8c57-a8066deaaa2a",
   "metadata": {},
   "outputs": [],
   "source": [
    "spark.read \\\n",
    "    .option(\"header\", True) \\\n",
    "    .option(\"sep\", \"\\t\") \\\n",
    "    .option(\"comment\", \"#\") \\\n",
    "    .csv(\"/sbgenomics/workspace/dm_alphamissense/AlphaMissense_gene_hg38.tsv.gz\") \\\n",
    "    .withColumn(\"mean_am_pathogenicity\", col(\"mean_am_pathogenicity\").cast(DoubleType())) \\\n",
    "    .coalesce(1) \\\n",
    "    .write.mode(\"overwrite\") \\\n",
    "    .parquet(\"/sbgenomics/output-files/dm_alphamissense/AlphaMissense_gene_hg38\")"
   ]
  },
  {
   "cell_type": "code",
   "execution_count": 36,
   "id": "859512d2-4c5c-40f2-8ecc-938d74f59063",
   "metadata": {},
   "outputs": [
    {
     "name": "stderr",
     "output_type": "stream",
     "text": [
      "[Stage 35:>                                                         (0 + 1) / 1]\r"
     ]
    },
    {
     "ename": "KeyboardInterrupt",
     "evalue": "",
     "output_type": "error",
     "traceback": [
      "\u001b[0;31m---------------------------------------------------------------------------\u001b[0m",
      "\u001b[0;31mKeyboardInterrupt\u001b[0m                         Traceback (most recent call last)",
      "\u001b[0;32m/tmp/ipykernel_126/3293266904.py\u001b[0m in \u001b[0;36m<module>\u001b[0;34m\u001b[0m\n\u001b[0;32m----> 1\u001b[0;31m \u001b[0mspark\u001b[0m\u001b[0;34m.\u001b[0m\u001b[0mread\u001b[0m\u001b[0;31m \u001b[0m\u001b[0;31m\\\u001b[0m\u001b[0;34m\u001b[0m\u001b[0;34m\u001b[0m\u001b[0m\n\u001b[0m\u001b[1;32m      2\u001b[0m     \u001b[0;34m.\u001b[0m\u001b[0moption\u001b[0m\u001b[0;34m(\u001b[0m\u001b[0;34m\"header\"\u001b[0m\u001b[0;34m,\u001b[0m \u001b[0;32mTrue\u001b[0m\u001b[0;34m)\u001b[0m\u001b[0;31m \u001b[0m\u001b[0;31m\\\u001b[0m\u001b[0;34m\u001b[0m\u001b[0;34m\u001b[0m\u001b[0m\n\u001b[1;32m      3\u001b[0m     \u001b[0;34m.\u001b[0m\u001b[0moption\u001b[0m\u001b[0;34m(\u001b[0m\u001b[0;34m\"sep\"\u001b[0m\u001b[0;34m,\u001b[0m \u001b[0;34m\"\\t\"\u001b[0m\u001b[0;34m)\u001b[0m\u001b[0;31m \u001b[0m\u001b[0;31m\\\u001b[0m\u001b[0;34m\u001b[0m\u001b[0;34m\u001b[0m\u001b[0m\n\u001b[1;32m      4\u001b[0m     \u001b[0;34m.\u001b[0m\u001b[0moption\u001b[0m\u001b[0;34m(\u001b[0m\u001b[0;34m\"comment\"\u001b[0m\u001b[0;34m,\u001b[0m \u001b[0;34m\"#\"\u001b[0m\u001b[0;34m)\u001b[0m\u001b[0;31m \u001b[0m\u001b[0;31m\\\u001b[0m\u001b[0;34m\u001b[0m\u001b[0;34m\u001b[0m\u001b[0m\n\u001b[1;32m      5\u001b[0m     \u001b[0;34m.\u001b[0m\u001b[0mcsv\u001b[0m\u001b[0;34m(\u001b[0m\u001b[0;34m\"/sbgenomics/workspace/dm_alphamissense/AlphaMissense_aa_substitutions.tsv.gz\"\u001b[0m\u001b[0;34m)\u001b[0m\u001b[0;31m \u001b[0m\u001b[0;31m\\\u001b[0m\u001b[0;34m\u001b[0m\u001b[0;34m\u001b[0m\u001b[0m\n",
      "\u001b[0;32m/usr/local/spark/python/pyspark/sql/readwriter.py\u001b[0m in \u001b[0;36mparquet\u001b[0;34m(self, path, mode, partitionBy, compression)\u001b[0m\n\u001b[1;32m   1248\u001b[0m             \u001b[0mself\u001b[0m\u001b[0;34m.\u001b[0m\u001b[0mpartitionBy\u001b[0m\u001b[0;34m(\u001b[0m\u001b[0mpartitionBy\u001b[0m\u001b[0;34m)\u001b[0m\u001b[0;34m\u001b[0m\u001b[0;34m\u001b[0m\u001b[0m\n\u001b[1;32m   1249\u001b[0m         \u001b[0mself\u001b[0m\u001b[0;34m.\u001b[0m\u001b[0m_set_opts\u001b[0m\u001b[0;34m(\u001b[0m\u001b[0mcompression\u001b[0m\u001b[0;34m=\u001b[0m\u001b[0mcompression\u001b[0m\u001b[0;34m)\u001b[0m\u001b[0;34m\u001b[0m\u001b[0;34m\u001b[0m\u001b[0m\n\u001b[0;32m-> 1250\u001b[0;31m         \u001b[0mself\u001b[0m\u001b[0;34m.\u001b[0m\u001b[0m_jwrite\u001b[0m\u001b[0;34m.\u001b[0m\u001b[0mparquet\u001b[0m\u001b[0;34m(\u001b[0m\u001b[0mpath\u001b[0m\u001b[0;34m)\u001b[0m\u001b[0;34m\u001b[0m\u001b[0;34m\u001b[0m\u001b[0m\n\u001b[0m\u001b[1;32m   1251\u001b[0m \u001b[0;34m\u001b[0m\u001b[0m\n\u001b[1;32m   1252\u001b[0m     \u001b[0;32mdef\u001b[0m \u001b[0mtext\u001b[0m\u001b[0;34m(\u001b[0m\u001b[0mself\u001b[0m\u001b[0;34m,\u001b[0m \u001b[0mpath\u001b[0m\u001b[0;34m,\u001b[0m \u001b[0mcompression\u001b[0m\u001b[0;34m=\u001b[0m\u001b[0;32mNone\u001b[0m\u001b[0;34m,\u001b[0m \u001b[0mlineSep\u001b[0m\u001b[0;34m=\u001b[0m\u001b[0;32mNone\u001b[0m\u001b[0;34m)\u001b[0m\u001b[0;34m:\u001b[0m\u001b[0;34m\u001b[0m\u001b[0;34m\u001b[0m\u001b[0m\n",
      "\u001b[0;32m/usr/local/spark/python/lib/py4j-0.10.9-src.zip/py4j/java_gateway.py\u001b[0m in \u001b[0;36m__call__\u001b[0;34m(self, *args)\u001b[0m\n\u001b[1;32m   1301\u001b[0m             \u001b[0mproto\u001b[0m\u001b[0;34m.\u001b[0m\u001b[0mEND_COMMAND_PART\u001b[0m\u001b[0;34m\u001b[0m\u001b[0;34m\u001b[0m\u001b[0m\n\u001b[1;32m   1302\u001b[0m \u001b[0;34m\u001b[0m\u001b[0m\n\u001b[0;32m-> 1303\u001b[0;31m         \u001b[0manswer\u001b[0m \u001b[0;34m=\u001b[0m \u001b[0mself\u001b[0m\u001b[0;34m.\u001b[0m\u001b[0mgateway_client\u001b[0m\u001b[0;34m.\u001b[0m\u001b[0msend_command\u001b[0m\u001b[0;34m(\u001b[0m\u001b[0mcommand\u001b[0m\u001b[0;34m)\u001b[0m\u001b[0;34m\u001b[0m\u001b[0;34m\u001b[0m\u001b[0m\n\u001b[0m\u001b[1;32m   1304\u001b[0m         return_value = get_return_value(\n\u001b[1;32m   1305\u001b[0m             answer, self.gateway_client, self.target_id, self.name)\n",
      "\u001b[0;32m/usr/local/spark/python/lib/py4j-0.10.9-src.zip/py4j/java_gateway.py\u001b[0m in \u001b[0;36msend_command\u001b[0;34m(self, command, retry, binary)\u001b[0m\n\u001b[1;32m   1031\u001b[0m         \u001b[0mconnection\u001b[0m \u001b[0;34m=\u001b[0m \u001b[0mself\u001b[0m\u001b[0;34m.\u001b[0m\u001b[0m_get_connection\u001b[0m\u001b[0;34m(\u001b[0m\u001b[0;34m)\u001b[0m\u001b[0;34m\u001b[0m\u001b[0;34m\u001b[0m\u001b[0m\n\u001b[1;32m   1032\u001b[0m         \u001b[0;32mtry\u001b[0m\u001b[0;34m:\u001b[0m\u001b[0;34m\u001b[0m\u001b[0;34m\u001b[0m\u001b[0m\n\u001b[0;32m-> 1033\u001b[0;31m             \u001b[0mresponse\u001b[0m \u001b[0;34m=\u001b[0m \u001b[0mconnection\u001b[0m\u001b[0;34m.\u001b[0m\u001b[0msend_command\u001b[0m\u001b[0;34m(\u001b[0m\u001b[0mcommand\u001b[0m\u001b[0;34m)\u001b[0m\u001b[0;34m\u001b[0m\u001b[0;34m\u001b[0m\u001b[0m\n\u001b[0m\u001b[1;32m   1034\u001b[0m             \u001b[0;32mif\u001b[0m \u001b[0mbinary\u001b[0m\u001b[0;34m:\u001b[0m\u001b[0;34m\u001b[0m\u001b[0;34m\u001b[0m\u001b[0m\n\u001b[1;32m   1035\u001b[0m                 \u001b[0;32mreturn\u001b[0m \u001b[0mresponse\u001b[0m\u001b[0;34m,\u001b[0m \u001b[0mself\u001b[0m\u001b[0;34m.\u001b[0m\u001b[0m_create_connection_guard\u001b[0m\u001b[0;34m(\u001b[0m\u001b[0mconnection\u001b[0m\u001b[0;34m)\u001b[0m\u001b[0;34m\u001b[0m\u001b[0;34m\u001b[0m\u001b[0m\n",
      "\u001b[0;32m/usr/local/spark/python/lib/py4j-0.10.9-src.zip/py4j/java_gateway.py\u001b[0m in \u001b[0;36msend_command\u001b[0;34m(self, command)\u001b[0m\n\u001b[1;32m   1198\u001b[0m \u001b[0;34m\u001b[0m\u001b[0m\n\u001b[1;32m   1199\u001b[0m         \u001b[0;32mtry\u001b[0m\u001b[0;34m:\u001b[0m\u001b[0;34m\u001b[0m\u001b[0;34m\u001b[0m\u001b[0m\n\u001b[0;32m-> 1200\u001b[0;31m             \u001b[0manswer\u001b[0m \u001b[0;34m=\u001b[0m \u001b[0msmart_decode\u001b[0m\u001b[0;34m(\u001b[0m\u001b[0mself\u001b[0m\u001b[0;34m.\u001b[0m\u001b[0mstream\u001b[0m\u001b[0;34m.\u001b[0m\u001b[0mreadline\u001b[0m\u001b[0;34m(\u001b[0m\u001b[0;34m)\u001b[0m\u001b[0;34m[\u001b[0m\u001b[0;34m:\u001b[0m\u001b[0;34m-\u001b[0m\u001b[0;36m1\u001b[0m\u001b[0;34m]\u001b[0m\u001b[0;34m)\u001b[0m\u001b[0;34m\u001b[0m\u001b[0;34m\u001b[0m\u001b[0m\n\u001b[0m\u001b[1;32m   1201\u001b[0m             \u001b[0mlogger\u001b[0m\u001b[0;34m.\u001b[0m\u001b[0mdebug\u001b[0m\u001b[0;34m(\u001b[0m\u001b[0;34m\"Answer received: {0}\"\u001b[0m\u001b[0;34m.\u001b[0m\u001b[0mformat\u001b[0m\u001b[0;34m(\u001b[0m\u001b[0manswer\u001b[0m\u001b[0;34m)\u001b[0m\u001b[0;34m)\u001b[0m\u001b[0;34m\u001b[0m\u001b[0;34m\u001b[0m\u001b[0m\n\u001b[1;32m   1202\u001b[0m             \u001b[0;32mif\u001b[0m \u001b[0manswer\u001b[0m\u001b[0;34m.\u001b[0m\u001b[0mstartswith\u001b[0m\u001b[0;34m(\u001b[0m\u001b[0mproto\u001b[0m\u001b[0;34m.\u001b[0m\u001b[0mRETURN_MESSAGE\u001b[0m\u001b[0;34m)\u001b[0m\u001b[0;34m:\u001b[0m\u001b[0;34m\u001b[0m\u001b[0;34m\u001b[0m\u001b[0m\n",
      "\u001b[0;32m/opt/conda/lib/python3.9/socket.py\u001b[0m in \u001b[0;36mreadinto\u001b[0;34m(self, b)\u001b[0m\n\u001b[1;32m    702\u001b[0m         \u001b[0;32mwhile\u001b[0m \u001b[0;32mTrue\u001b[0m\u001b[0;34m:\u001b[0m\u001b[0;34m\u001b[0m\u001b[0;34m\u001b[0m\u001b[0m\n\u001b[1;32m    703\u001b[0m             \u001b[0;32mtry\u001b[0m\u001b[0;34m:\u001b[0m\u001b[0;34m\u001b[0m\u001b[0;34m\u001b[0m\u001b[0m\n\u001b[0;32m--> 704\u001b[0;31m                 \u001b[0;32mreturn\u001b[0m \u001b[0mself\u001b[0m\u001b[0;34m.\u001b[0m\u001b[0m_sock\u001b[0m\u001b[0;34m.\u001b[0m\u001b[0mrecv_into\u001b[0m\u001b[0;34m(\u001b[0m\u001b[0mb\u001b[0m\u001b[0;34m)\u001b[0m\u001b[0;34m\u001b[0m\u001b[0;34m\u001b[0m\u001b[0m\n\u001b[0m\u001b[1;32m    705\u001b[0m             \u001b[0;32mexcept\u001b[0m \u001b[0mtimeout\u001b[0m\u001b[0;34m:\u001b[0m\u001b[0;34m\u001b[0m\u001b[0;34m\u001b[0m\u001b[0m\n\u001b[1;32m    706\u001b[0m                 \u001b[0mself\u001b[0m\u001b[0;34m.\u001b[0m\u001b[0m_timeout_occurred\u001b[0m \u001b[0;34m=\u001b[0m \u001b[0;32mTrue\u001b[0m\u001b[0;34m\u001b[0m\u001b[0;34m\u001b[0m\u001b[0m\n",
      "\u001b[0;31mKeyboardInterrupt\u001b[0m: "
     ]
    }
   ],
   "source": [
    "spark.read \\\n",
    "    .option(\"header\", True) \\\n",
    "    .option(\"sep\", \"\\t\") \\\n",
    "    .option(\"comment\", \"#\") \\\n",
    "    .csv(\"/sbgenomics/workspace/dm_alphamissense/AlphaMissense_aa_substitutions.tsv.gz\") \\\n",
    "    .withColumn(\"am_pathogenicity\", col(\"am_pathogenicity\").cast(DoubleType())) \\\n",
    "    .coalesce(1) \\\n",
    "    .write.mode(\"overwrite\") \\\n",
    "    .parquet(\"/sbgenomics/output-files/dm_alphamissense/AlphaMissense_aa_substitutions\")"
   ]
  },
  {
   "cell_type": "code",
   "execution_count": 6,
   "id": "5dca4687-a4e1-4567-9b59-356921c30418",
   "metadata": {},
   "outputs": [
    {
     "name": "stderr",
     "output_type": "stream",
     "text": [
      "                                                                                \r"
     ]
    }
   ],
   "source": [
    "spark.read \\\n",
    "    .option(\"header\", True) \\\n",
    "    .option(\"sep\", \"\\t\") \\\n",
    "    .option(\"comment\", \"#\") \\\n",
    "    .csv(\"/sbgenomics/workspace/dm_alphamissense/AlphaMissense_isoforms_aa_substitutions.tsv.gz\") \\\n",
    "    .withColumn(\"am_pathogenicity\", col(\"am_pathogenicity\").cast(DoubleType())) \\\n",
    "    .coalesce(1) \\\n",
    "    .write.mode(\"overwrite\") \\\n",
    "    .parquet(\"/sbgenomics/output-files/dm_alphamissense/AlphaMissense_isoforms_aa_substitutions\")"
   ]
  },
  {
   "cell_type": "code",
   "execution_count": 17,
   "id": "84104180-adf6-42d5-aaec-1c8349b8eb1d",
   "metadata": {},
   "outputs": [
    {
     "name": "stderr",
     "output_type": "stream",
     "text": [
      "                                                                                \r"
     ]
    }
   ],
   "source": [
    "spark.read \\\n",
    "    .option(\"header\", False) \\\n",
    "    .option(\"sep\", \"\\t\") \\\n",
    "    .option(\"comment\", \"#\") \\\n",
    "    .csv(\"/sbgenomics/workspace/dm_alphamissense/AlphaMissense_isoforms_hg38.tsv.gz\") \\\n",
    "    .toDF(\"chromosome\", \"start\", \"reference\", \"alternate\", \"genome\", \\\n",
    "          \"transcript_id\", \"protein_variant\", \"am_pathogenicity\", \"am_class\") \\\n",
    "    .withColumn(\"am_pathogenicity\", col(\"am_pathogenicity\").cast(DoubleType())) \\\n",
    "    .coalesce(1) \\\n",
    "    .write.mode(\"overwrite\") \\\n",
    "    .parquet(\"/sbgenomics/output-files/dm_alphamissense/AlphaMissense_isoforms_hg38\")"
   ]
  },
  {
   "cell_type": "code",
   "execution_count": null,
   "id": "590853de-8b98-4787-bcf4-0cbb97517192",
   "metadata": {},
   "outputs": [],
   "source": []
  }
 ],
 "metadata": {
  "kernelspec": {
   "display_name": "Python 3 (ipykernel)",
   "language": "python",
   "name": "python3"
  },
  "language_info": {
   "codemirror_mode": {
    "name": "ipython",
    "version": 3
   },
   "file_extension": ".py",
   "mimetype": "text/x-python",
   "name": "python",
   "nbconvert_exporter": "python",
   "pygments_lexer": "ipython3",
   "version": "3.9.7"
  }
 },
 "nbformat": 4,
 "nbformat_minor": 5
}
